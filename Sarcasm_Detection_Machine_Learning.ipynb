{
  "metadata": {
    "kernelspec": {
      "name": "python3",
      "display_name": "Python 3",
      "language": "python"
    },
    "language_info": {
      "name": "python",
      "version": "3.7.12",
      "mimetype": "text/x-python",
      "codemirror_mode": {
        "name": "ipython",
        "version": 3
      },
      "pygments_lexer": "ipython3",
      "nbconvert_exporter": "python",
      "file_extension": ".py"
    },
    "vscode": {
      "interpreter": {
        "hash": "26de051ba29f2982a8de78e945f0abaf191376122a1563185a90213a26c5da77"
      }
    },
    "colab": {
      "provenance": []
    }
  },
  "nbformat_minor": 0,
  "nbformat": 4,
  "cells": [
    {
      "cell_type": "markdown",
      "source": [
        "Sarcasm has been part of our language for many years. It means being the opposite of what you mean, usually with a distinct tone of voice in a fun way. Understanding sarcasm depends on your language skills and your knowledge of other people’s minds. \n",
        "But what about a computer? Is it possible to train a machine learning model that can detect whether a sentence is sarcastic or not? Yes, it is! In this project, I have tried to Detect Sarcasm with Machine Learning using Python."
      ],
      "metadata": {
        "id": "Pl6V9_qXnOaa"
      }
    },
    {
      "cell_type": "code",
      "source": [
        "# Importing required libraries\n",
        "import pandas as pd\n",
        "import numpy as np\n",
        "from sklearn.feature_extraction.text import CountVectorizer\n",
        "from sklearn.model_selection import train_test_split\n",
        "from sklearn.naive_bayes import BernoulliNB    # using this library for boolean features\n"
      ],
      "metadata": {
        "execution": {
          "iopub.status.busy": "2022-11-17T12:25:35.222357Z",
          "iopub.execute_input": "2022-11-17T12:25:35.223203Z",
          "iopub.status.idle": "2022-11-17T12:25:36.520882Z",
          "shell.execute_reply.started": "2022-11-17T12:25:35.223110Z",
          "shell.execute_reply": "2022-11-17T12:25:36.519558Z"
        },
        "trusted": true,
        "id": "XbbiWAKpnOam"
      },
      "execution_count": null,
      "outputs": []
    },
    {
      "cell_type": "code",
      "source": [
        "# Using this dataset for training our model to detect sarcasm.\n",
        "# This data set includes various article links and their headlines and they are classified as sarcastic or not\n",
        "\n",
        "# Step 1 : Importing the dataset and storing it in a dataframe\n",
        "url = \"https://storage.googleapis.com/laurencemoroney-blog.appspot.com/sarcasm.json\"\n",
        "df = pd.read_json(url)\n",
        "df.head()"
      ],
      "metadata": {
        "execution": {
          "iopub.status.busy": "2022-11-17T12:25:36.526141Z",
          "iopub.execute_input": "2022-11-17T12:25:36.528327Z",
          "iopub.status.idle": "2022-11-17T12:25:36.979027Z",
          "shell.execute_reply.started": "2022-11-17T12:25:36.528269Z",
          "shell.execute_reply": "2022-11-17T12:25:36.978066Z"
        },
        "trusted": true,
        "id": "xBj4eR8DnOan",
        "outputId": "0a6e60ec-21ca-470f-96a2-beaeec2f9089"
      },
      "execution_count": null,
      "outputs": [
        {
          "execution_count": 2,
          "output_type": "execute_result",
          "data": {
            "text/plain": "                                        article_link  \\\n0  https://www.huffingtonpost.com/entry/versace-b...   \n1  https://www.huffingtonpost.com/entry/roseanne-...   \n2  https://local.theonion.com/mom-starting-to-fea...   \n3  https://politics.theonion.com/boehner-just-wan...   \n4  https://www.huffingtonpost.com/entry/jk-rowlin...   \n\n                                            headline  is_sarcastic  \n0  former versace store clerk sues over secret 'b...             0  \n1  the 'roseanne' revival catches up to our thorn...             0  \n2  mom starting to fear son's web series closest ...             1  \n3  boehner just wants wife to listen, not come up...             1  \n4  j.k. rowling wishes snape happy birthday in th...             0  ",
            "text/html": "<div>\n<style scoped>\n    .dataframe tbody tr th:only-of-type {\n        vertical-align: middle;\n    }\n\n    .dataframe tbody tr th {\n        vertical-align: top;\n    }\n\n    .dataframe thead th {\n        text-align: right;\n    }\n</style>\n<table border=\"1\" class=\"dataframe\">\n  <thead>\n    <tr style=\"text-align: right;\">\n      <th></th>\n      <th>article_link</th>\n      <th>headline</th>\n      <th>is_sarcastic</th>\n    </tr>\n  </thead>\n  <tbody>\n    <tr>\n      <th>0</th>\n      <td>https://www.huffingtonpost.com/entry/versace-b...</td>\n      <td>former versace store clerk sues over secret 'b...</td>\n      <td>0</td>\n    </tr>\n    <tr>\n      <th>1</th>\n      <td>https://www.huffingtonpost.com/entry/roseanne-...</td>\n      <td>the 'roseanne' revival catches up to our thorn...</td>\n      <td>0</td>\n    </tr>\n    <tr>\n      <th>2</th>\n      <td>https://local.theonion.com/mom-starting-to-fea...</td>\n      <td>mom starting to fear son's web series closest ...</td>\n      <td>1</td>\n    </tr>\n    <tr>\n      <th>3</th>\n      <td>https://politics.theonion.com/boehner-just-wan...</td>\n      <td>boehner just wants wife to listen, not come up...</td>\n      <td>1</td>\n    </tr>\n    <tr>\n      <th>4</th>\n      <td>https://www.huffingtonpost.com/entry/jk-rowlin...</td>\n      <td>j.k. rowling wishes snape happy birthday in th...</td>\n      <td>0</td>\n    </tr>\n  </tbody>\n</table>\n</div>"
          },
          "metadata": {}
        }
      ]
    },
    {
      "cell_type": "code",
      "source": [
        "df.info()"
      ],
      "metadata": {
        "execution": {
          "iopub.status.busy": "2022-11-17T12:25:36.980669Z",
          "iopub.execute_input": "2022-11-17T12:25:36.981422Z",
          "iopub.status.idle": "2022-11-17T12:25:37.015509Z",
          "shell.execute_reply.started": "2022-11-17T12:25:36.981371Z",
          "shell.execute_reply": "2022-11-17T12:25:37.013910Z"
        },
        "trusted": true,
        "id": "59jsBgJCnOao",
        "outputId": "ad461140-7df0-4057-e047-17e59d0e9d82"
      },
      "execution_count": null,
      "outputs": [
        {
          "name": "stdout",
          "text": "<class 'pandas.core.frame.DataFrame'>\nRangeIndex: 26709 entries, 0 to 26708\nData columns (total 3 columns):\n #   Column        Non-Null Count  Dtype \n---  ------        --------------  ----- \n 0   article_link  26709 non-null  object\n 1   headline      26709 non-null  object\n 2   is_sarcastic  26709 non-null  int64 \ndtypes: int64(1), object(2)\nmemory usage: 626.1+ KB\n",
          "output_type": "stream"
        }
      ]
    },
    {
      "cell_type": "markdown",
      "source": [
        "The \"is_sarcastic\" column determines if the comment is sarcastic (1) or not (0)"
      ],
      "metadata": {
        "id": "YVVilJRGnOao"
      }
    },
    {
      "cell_type": "code",
      "source": [
        "# For our convenience of understanding\n",
        "# mapping the labels\n",
        "df['is_sarcastic'] = df['is_sarcastic'].map({0: \"Not Sarcasm\", 1: \"Sarcasm\"})\n",
        "df.head()"
      ],
      "metadata": {
        "execution": {
          "iopub.status.busy": "2022-11-17T12:25:37.018973Z",
          "iopub.execute_input": "2022-11-17T12:25:37.019481Z",
          "iopub.status.idle": "2022-11-17T12:25:37.035990Z",
          "shell.execute_reply.started": "2022-11-17T12:25:37.019436Z",
          "shell.execute_reply": "2022-11-17T12:25:37.034566Z"
        },
        "trusted": true,
        "id": "IUYOg_ULnOao",
        "outputId": "634e26f6-89ef-432c-e507-1813932789f3"
      },
      "execution_count": null,
      "outputs": [
        {
          "execution_count": 4,
          "output_type": "execute_result",
          "data": {
            "text/plain": "                                        article_link  \\\n0  https://www.huffingtonpost.com/entry/versace-b...   \n1  https://www.huffingtonpost.com/entry/roseanne-...   \n2  https://local.theonion.com/mom-starting-to-fea...   \n3  https://politics.theonion.com/boehner-just-wan...   \n4  https://www.huffingtonpost.com/entry/jk-rowlin...   \n\n                                            headline is_sarcastic  \n0  former versace store clerk sues over secret 'b...  Not Sarcasm  \n1  the 'roseanne' revival catches up to our thorn...  Not Sarcasm  \n2  mom starting to fear son's web series closest ...      Sarcasm  \n3  boehner just wants wife to listen, not come up...      Sarcasm  \n4  j.k. rowling wishes snape happy birthday in th...  Not Sarcasm  ",
            "text/html": "<div>\n<style scoped>\n    .dataframe tbody tr th:only-of-type {\n        vertical-align: middle;\n    }\n\n    .dataframe tbody tr th {\n        vertical-align: top;\n    }\n\n    .dataframe thead th {\n        text-align: right;\n    }\n</style>\n<table border=\"1\" class=\"dataframe\">\n  <thead>\n    <tr style=\"text-align: right;\">\n      <th></th>\n      <th>article_link</th>\n      <th>headline</th>\n      <th>is_sarcastic</th>\n    </tr>\n  </thead>\n  <tbody>\n    <tr>\n      <th>0</th>\n      <td>https://www.huffingtonpost.com/entry/versace-b...</td>\n      <td>former versace store clerk sues over secret 'b...</td>\n      <td>Not Sarcasm</td>\n    </tr>\n    <tr>\n      <th>1</th>\n      <td>https://www.huffingtonpost.com/entry/roseanne-...</td>\n      <td>the 'roseanne' revival catches up to our thorn...</td>\n      <td>Not Sarcasm</td>\n    </tr>\n    <tr>\n      <th>2</th>\n      <td>https://local.theonion.com/mom-starting-to-fea...</td>\n      <td>mom starting to fear son's web series closest ...</td>\n      <td>Sarcasm</td>\n    </tr>\n    <tr>\n      <th>3</th>\n      <td>https://politics.theonion.com/boehner-just-wan...</td>\n      <td>boehner just wants wife to listen, not come up...</td>\n      <td>Sarcasm</td>\n    </tr>\n    <tr>\n      <th>4</th>\n      <td>https://www.huffingtonpost.com/entry/jk-rowlin...</td>\n      <td>j.k. rowling wishes snape happy birthday in th...</td>\n      <td>Not Sarcasm</td>\n    </tr>\n  </tbody>\n</table>\n</div>"
          },
          "metadata": {}
        }
      ]
    },
    {
      "cell_type": "code",
      "source": [
        "# Dropping column article link as it is a unique column \n",
        "# and does not have much significance here to determine whether the headline is sarcastic or not\n",
        "df = df.drop(columns='article_link')\n",
        "df.head()"
      ],
      "metadata": {
        "execution": {
          "iopub.status.busy": "2022-11-17T12:25:37.038060Z",
          "iopub.execute_input": "2022-11-17T12:25:37.038887Z",
          "iopub.status.idle": "2022-11-17T12:25:37.058716Z",
          "shell.execute_reply.started": "2022-11-17T12:25:37.038822Z",
          "shell.execute_reply": "2022-11-17T12:25:37.057517Z"
        },
        "trusted": true,
        "id": "CIVQ8xbOnOap",
        "outputId": "86b5638d-2cc5-429a-c971-e6f5bf97f66b"
      },
      "execution_count": null,
      "outputs": [
        {
          "execution_count": 5,
          "output_type": "execute_result",
          "data": {
            "text/plain": "                                            headline is_sarcastic\n0  former versace store clerk sues over secret 'b...  Not Sarcasm\n1  the 'roseanne' revival catches up to our thorn...  Not Sarcasm\n2  mom starting to fear son's web series closest ...      Sarcasm\n3  boehner just wants wife to listen, not come up...      Sarcasm\n4  j.k. rowling wishes snape happy birthday in th...  Not Sarcasm",
            "text/html": "<div>\n<style scoped>\n    .dataframe tbody tr th:only-of-type {\n        vertical-align: middle;\n    }\n\n    .dataframe tbody tr th {\n        vertical-align: top;\n    }\n\n    .dataframe thead th {\n        text-align: right;\n    }\n</style>\n<table border=\"1\" class=\"dataframe\">\n  <thead>\n    <tr style=\"text-align: right;\">\n      <th></th>\n      <th>headline</th>\n      <th>is_sarcastic</th>\n    </tr>\n  </thead>\n  <tbody>\n    <tr>\n      <th>0</th>\n      <td>former versace store clerk sues over secret 'b...</td>\n      <td>Not Sarcasm</td>\n    </tr>\n    <tr>\n      <th>1</th>\n      <td>the 'roseanne' revival catches up to our thorn...</td>\n      <td>Not Sarcasm</td>\n    </tr>\n    <tr>\n      <th>2</th>\n      <td>mom starting to fear son's web series closest ...</td>\n      <td>Sarcasm</td>\n    </tr>\n    <tr>\n      <th>3</th>\n      <td>boehner just wants wife to listen, not come up...</td>\n      <td>Sarcasm</td>\n    </tr>\n    <tr>\n      <th>4</th>\n      <td>j.k. rowling wishes snape happy birthday in th...</td>\n      <td>Not Sarcasm</td>\n    </tr>\n  </tbody>\n</table>\n</div>"
          },
          "metadata": {}
        }
      ]
    },
    {
      "cell_type": "code",
      "source": [
        "# now let's prepare the Training and the Test data sets. \n",
        "# We would select the “headline” column as a feature and the “is_sarcastic” column as a label\n",
        "x = np.array(df['headline'])\n",
        "y = np.array(df['is_sarcastic'])"
      ],
      "metadata": {
        "execution": {
          "iopub.status.busy": "2022-11-17T12:25:37.060256Z",
          "iopub.execute_input": "2022-11-17T12:25:37.061306Z",
          "iopub.status.idle": "2022-11-17T12:25:37.069230Z",
          "shell.execute_reply.started": "2022-11-17T12:25:37.061261Z",
          "shell.execute_reply": "2022-11-17T12:25:37.067719Z"
        },
        "trusted": true,
        "id": "aXLsDqcQnOap"
      },
      "execution_count": null,
      "outputs": []
    },
    {
      "cell_type": "code",
      "source": [
        "# Creating Count Vector for all the headlines.\n",
        "vec = CountVectorizer()\n",
        "X = vec.fit_transform(x)   # ----> we will use this transformed data to create our train-test set\n",
        "\n",
        "df_headline = pd.DataFrame(X.toarray(), columns= vec.get_feature_names())\n",
        "df_headline"
      ],
      "metadata": {
        "execution": {
          "iopub.status.busy": "2022-11-17T12:25:37.071476Z",
          "iopub.execute_input": "2022-11-17T12:25:37.072308Z",
          "iopub.status.idle": "2022-11-17T12:25:38.548380Z",
          "shell.execute_reply.started": "2022-11-17T12:25:37.072261Z",
          "shell.execute_reply": "2022-11-17T12:25:38.547016Z"
        },
        "trusted": true,
        "id": "XsWvkHgxnOap",
        "outputId": "8984b567-dc31-4e08-f1a3-dd01ede41a65"
      },
      "execution_count": null,
      "outputs": [
        {
          "name": "stderr",
          "text": "/opt/conda/lib/python3.7/site-packages/sklearn/utils/deprecation.py:87: FutureWarning: Function get_feature_names is deprecated; get_feature_names is deprecated in 1.0 and will be removed in 1.2. Please use get_feature_names_out instead.\n  warnings.warn(msg, category=FutureWarning)\n",
          "output_type": "stream"
        },
        {
          "execution_count": 7,
          "output_type": "execute_result",
          "data": {
            "text/plain": "       00  000  00000000001  00003  000th  025  03  047  071  10  ...  \\\n0       0    0            0      0      0    0   0    0    0   0  ...   \n1       0    0            0      0      0    0   0    0    0   0  ...   \n2       0    0            0      0      0    0   0    0    0   0  ...   \n3       0    0            0      0      0    0   0    0    0   0  ...   \n4       0    0            0      0      0    0   0    0    0   0  ...   \n...    ..  ...          ...    ...    ...  ...  ..  ...  ...  ..  ...   \n26704   0    0            0      0      0    0   0    0    0   0  ...   \n26705   0    0            0      0      0    0   0    0    0   0  ...   \n26706   0    0            0      0      0    0   0    0    0   0  ...   \n26707   0    0            0      0      0    0   0    0    0   0  ...   \n26708   0    0            0      0      0    0   0    0    0   0  ...   \n\n       zoologist  zoologists  zoomed  zoroastrianism  zsa  zucker  zuckerberg  \\\n0              0           0       0               0    0       0           0   \n1              0           0       0               0    0       0           0   \n2              0           0       0               0    0       0           0   \n3              0           0       0               0    0       0           0   \n4              0           0       0               0    0       0           0   \n...          ...         ...     ...             ...  ...     ...         ...   \n26704          0           0       0               0    0       0           0   \n26705          0           0       0               0    0       0           0   \n26706          0           0       0               0    0       0           0   \n26707          0           0       0               0    0       0           0   \n26708          0           0       0               0    0       0           0   \n\n       zz  éclairs  ünited  \n0       0        0       0  \n1       0        0       0  \n2       0        0       0  \n3       0        0       0  \n4       0        0       0  \n...    ..      ...     ...  \n26704   0        0       0  \n26705   0        0       0  \n26706   0        0       0  \n26707   0        0       0  \n26708   0        0       0  \n\n[26709 rows x 25292 columns]",
            "text/html": "<div>\n<style scoped>\n    .dataframe tbody tr th:only-of-type {\n        vertical-align: middle;\n    }\n\n    .dataframe tbody tr th {\n        vertical-align: top;\n    }\n\n    .dataframe thead th {\n        text-align: right;\n    }\n</style>\n<table border=\"1\" class=\"dataframe\">\n  <thead>\n    <tr style=\"text-align: right;\">\n      <th></th>\n      <th>00</th>\n      <th>000</th>\n      <th>00000000001</th>\n      <th>00003</th>\n      <th>000th</th>\n      <th>025</th>\n      <th>03</th>\n      <th>047</th>\n      <th>071</th>\n      <th>10</th>\n      <th>...</th>\n      <th>zoologist</th>\n      <th>zoologists</th>\n      <th>zoomed</th>\n      <th>zoroastrianism</th>\n      <th>zsa</th>\n      <th>zucker</th>\n      <th>zuckerberg</th>\n      <th>zz</th>\n      <th>éclairs</th>\n      <th>ünited</th>\n    </tr>\n  </thead>\n  <tbody>\n    <tr>\n      <th>0</th>\n      <td>0</td>\n      <td>0</td>\n      <td>0</td>\n      <td>0</td>\n      <td>0</td>\n      <td>0</td>\n      <td>0</td>\n      <td>0</td>\n      <td>0</td>\n      <td>0</td>\n      <td>...</td>\n      <td>0</td>\n      <td>0</td>\n      <td>0</td>\n      <td>0</td>\n      <td>0</td>\n      <td>0</td>\n      <td>0</td>\n      <td>0</td>\n      <td>0</td>\n      <td>0</td>\n    </tr>\n    <tr>\n      <th>1</th>\n      <td>0</td>\n      <td>0</td>\n      <td>0</td>\n      <td>0</td>\n      <td>0</td>\n      <td>0</td>\n      <td>0</td>\n      <td>0</td>\n      <td>0</td>\n      <td>0</td>\n      <td>...</td>\n      <td>0</td>\n      <td>0</td>\n      <td>0</td>\n      <td>0</td>\n      <td>0</td>\n      <td>0</td>\n      <td>0</td>\n      <td>0</td>\n      <td>0</td>\n      <td>0</td>\n    </tr>\n    <tr>\n      <th>2</th>\n      <td>0</td>\n      <td>0</td>\n      <td>0</td>\n      <td>0</td>\n      <td>0</td>\n      <td>0</td>\n      <td>0</td>\n      <td>0</td>\n      <td>0</td>\n      <td>0</td>\n      <td>...</td>\n      <td>0</td>\n      <td>0</td>\n      <td>0</td>\n      <td>0</td>\n      <td>0</td>\n      <td>0</td>\n      <td>0</td>\n      <td>0</td>\n      <td>0</td>\n      <td>0</td>\n    </tr>\n    <tr>\n      <th>3</th>\n      <td>0</td>\n      <td>0</td>\n      <td>0</td>\n      <td>0</td>\n      <td>0</td>\n      <td>0</td>\n      <td>0</td>\n      <td>0</td>\n      <td>0</td>\n      <td>0</td>\n      <td>...</td>\n      <td>0</td>\n      <td>0</td>\n      <td>0</td>\n      <td>0</td>\n      <td>0</td>\n      <td>0</td>\n      <td>0</td>\n      <td>0</td>\n      <td>0</td>\n      <td>0</td>\n    </tr>\n    <tr>\n      <th>4</th>\n      <td>0</td>\n      <td>0</td>\n      <td>0</td>\n      <td>0</td>\n      <td>0</td>\n      <td>0</td>\n      <td>0</td>\n      <td>0</td>\n      <td>0</td>\n      <td>0</td>\n      <td>...</td>\n      <td>0</td>\n      <td>0</td>\n      <td>0</td>\n      <td>0</td>\n      <td>0</td>\n      <td>0</td>\n      <td>0</td>\n      <td>0</td>\n      <td>0</td>\n      <td>0</td>\n    </tr>\n    <tr>\n      <th>...</th>\n      <td>...</td>\n      <td>...</td>\n      <td>...</td>\n      <td>...</td>\n      <td>...</td>\n      <td>...</td>\n      <td>...</td>\n      <td>...</td>\n      <td>...</td>\n      <td>...</td>\n      <td>...</td>\n      <td>...</td>\n      <td>...</td>\n      <td>...</td>\n      <td>...</td>\n      <td>...</td>\n      <td>...</td>\n      <td>...</td>\n      <td>...</td>\n      <td>...</td>\n      <td>...</td>\n    </tr>\n    <tr>\n      <th>26704</th>\n      <td>0</td>\n      <td>0</td>\n      <td>0</td>\n      <td>0</td>\n      <td>0</td>\n      <td>0</td>\n      <td>0</td>\n      <td>0</td>\n      <td>0</td>\n      <td>0</td>\n      <td>...</td>\n      <td>0</td>\n      <td>0</td>\n      <td>0</td>\n      <td>0</td>\n      <td>0</td>\n      <td>0</td>\n      <td>0</td>\n      <td>0</td>\n      <td>0</td>\n      <td>0</td>\n    </tr>\n    <tr>\n      <th>26705</th>\n      <td>0</td>\n      <td>0</td>\n      <td>0</td>\n      <td>0</td>\n      <td>0</td>\n      <td>0</td>\n      <td>0</td>\n      <td>0</td>\n      <td>0</td>\n      <td>0</td>\n      <td>...</td>\n      <td>0</td>\n      <td>0</td>\n      <td>0</td>\n      <td>0</td>\n      <td>0</td>\n      <td>0</td>\n      <td>0</td>\n      <td>0</td>\n      <td>0</td>\n      <td>0</td>\n    </tr>\n    <tr>\n      <th>26706</th>\n      <td>0</td>\n      <td>0</td>\n      <td>0</td>\n      <td>0</td>\n      <td>0</td>\n      <td>0</td>\n      <td>0</td>\n      <td>0</td>\n      <td>0</td>\n      <td>0</td>\n      <td>...</td>\n      <td>0</td>\n      <td>0</td>\n      <td>0</td>\n      <td>0</td>\n      <td>0</td>\n      <td>0</td>\n      <td>0</td>\n      <td>0</td>\n      <td>0</td>\n      <td>0</td>\n    </tr>\n    <tr>\n      <th>26707</th>\n      <td>0</td>\n      <td>0</td>\n      <td>0</td>\n      <td>0</td>\n      <td>0</td>\n      <td>0</td>\n      <td>0</td>\n      <td>0</td>\n      <td>0</td>\n      <td>0</td>\n      <td>...</td>\n      <td>0</td>\n      <td>0</td>\n      <td>0</td>\n      <td>0</td>\n      <td>0</td>\n      <td>0</td>\n      <td>0</td>\n      <td>0</td>\n      <td>0</td>\n      <td>0</td>\n    </tr>\n    <tr>\n      <th>26708</th>\n      <td>0</td>\n      <td>0</td>\n      <td>0</td>\n      <td>0</td>\n      <td>0</td>\n      <td>0</td>\n      <td>0</td>\n      <td>0</td>\n      <td>0</td>\n      <td>0</td>\n      <td>...</td>\n      <td>0</td>\n      <td>0</td>\n      <td>0</td>\n      <td>0</td>\n      <td>0</td>\n      <td>0</td>\n      <td>0</td>\n      <td>0</td>\n      <td>0</td>\n      <td>0</td>\n    </tr>\n  </tbody>\n</table>\n<p>26709 rows × 25292 columns</p>\n</div>"
          },
          "metadata": {}
        }
      ]
    },
    {
      "cell_type": "code",
      "source": [
        "# Splitting the data into 80% Training set and 20% Test set\n",
        "X_train, X_test, y_train, y_test = train_test_split(X, y, test_size=0.20, random_state=42)"
      ],
      "metadata": {
        "execution": {
          "iopub.status.busy": "2022-11-17T12:25:38.550166Z",
          "iopub.execute_input": "2022-11-17T12:25:38.551161Z",
          "iopub.status.idle": "2022-11-17T12:25:38.564138Z",
          "shell.execute_reply.started": "2022-11-17T12:25:38.551108Z",
          "shell.execute_reply": "2022-11-17T12:25:38.562654Z"
        },
        "trusted": true,
        "id": "ywUK0J8dnOaq"
      },
      "execution_count": null,
      "outputs": []
    },
    {
      "cell_type": "code",
      "source": [
        "# Building the Model\n",
        "model = BernoulliNB()               # Naive Bayes\n",
        "# Fitting the Model\n",
        "model.fit(X_train, y_train)\n",
        "\n",
        "print(\"The accuracy of the model is: \" + str((model.score(X_test, y_test) * 100).astype('int')) + \"%\") "
      ],
      "metadata": {
        "execution": {
          "iopub.status.busy": "2022-11-17T12:25:38.566351Z",
          "iopub.execute_input": "2022-11-17T12:25:38.566857Z",
          "iopub.status.idle": "2022-11-17T12:25:38.652217Z",
          "shell.execute_reply.started": "2022-11-17T12:25:38.566812Z",
          "shell.execute_reply": "2022-11-17T12:25:38.650679Z"
        },
        "trusted": true,
        "id": "efUIbwganOaq",
        "outputId": "d6500f90-cc13-4fd9-eaf1-0008eb4a7b52"
      },
      "execution_count": null,
      "outputs": [
        {
          "name": "stdout",
          "text": "The accuracy of the model is: 84%\n",
          "output_type": "stream"
        }
      ]
    },
    {
      "cell_type": "code",
      "source": [
        "user = input(\"Enter a text to check for sarcasm: \")\n",
        "data = vec.transform([user]).toarray()\n",
        "output = model.predict(data)\n",
        "print(output)"
      ],
      "metadata": {
        "execution": {
          "iopub.status.busy": "2022-11-17T12:32:45.591912Z",
          "iopub.execute_input": "2022-11-17T12:32:45.592322Z",
          "iopub.status.idle": "2022-11-17T12:33:02.368061Z",
          "shell.execute_reply.started": "2022-11-17T12:32:45.592291Z",
          "shell.execute_reply": "2022-11-17T12:33:02.367092Z"
        },
        "trusted": true,
        "id": "67NIq59EnOaq",
        "outputId": "f48d9b72-db58-4e9d-b1eb-5397eb1dded3"
      },
      "execution_count": null,
      "outputs": [
        {
          "output_type": "stream",
          "name": "stdin",
          "text": "Enter a text to check for sarcasm:  I'm glad we're having a rehearsal dinner. I rarely practice my meals before I eat.\n"
        },
        {
          "name": "stdout",
          "text": "['Sarcasm']\n",
          "output_type": "stream"
        }
      ]
    }
  ]
}