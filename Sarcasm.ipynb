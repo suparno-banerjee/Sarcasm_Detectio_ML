!wget --no-check-certificate \
https://storage.googleapis.com/laurencemoroney-blog.appspot.com/sarcasm.json \
  -O /tmp/sarcasm.json
